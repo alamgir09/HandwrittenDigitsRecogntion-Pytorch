{
 "cells": [
  {
   "cell_type": "code",
   "execution_count": 2,
   "id": "6e9aeb1b",
   "metadata": {},
   "outputs": [],
   "source": [
    "from torchvision import datasets\n",
    "from torchvision.transforms import ToTensor"
   ]
  },
  {
   "cell_type": "code",
   "execution_count": 4,
   "id": "055b8d6f-c097-450a-8f8b-bd4f0c05f28f",
   "metadata": {},
   "outputs": [
    {
     "name": "stdout",
     "output_type": "stream",
     "text": [
      "Downloading http://yann.lecun.com/exdb/mnist/train-images-idx3-ubyte.gz\n",
      "Using downloaded and verified file: data/MNIST/raw/train-images-idx3-ubyte.gz\n",
      "Extracting data/MNIST/raw/train-images-idx3-ubyte.gz to data/MNIST/raw\n",
      "\n",
      "Downloading http://yann.lecun.com/exdb/mnist/train-labels-idx1-ubyte.gz\n",
      "Using downloaded and verified file: data/MNIST/raw/train-labels-idx1-ubyte.gz\n",
      "Extracting data/MNIST/raw/train-labels-idx1-ubyte.gz to data/MNIST/raw\n",
      "\n",
      "Downloading http://yann.lecun.com/exdb/mnist/t10k-images-idx3-ubyte.gz\n",
      "Using downloaded and verified file: data/MNIST/raw/t10k-images-idx3-ubyte.gz\n",
      "Extracting data/MNIST/raw/t10k-images-idx3-ubyte.gz to data/MNIST/raw\n",
      "\n",
      "Downloading http://yann.lecun.com/exdb/mnist/t10k-labels-idx1-ubyte.gz\n",
      "Downloading http://yann.lecun.com/exdb/mnist/t10k-labels-idx1-ubyte.gz to data/MNIST/raw/t10k-labels-idx1-ubyte.gz\n"
     ]
    },
    {
     "name": "stderr",
     "output_type": "stream",
     "text": [
      "100%|██████████| 4542/4542 [00:00<00:00, 6726881.63it/s]"
     ]
    },
    {
     "name": "stdout",
     "output_type": "stream",
     "text": [
      "Extracting data/MNIST/raw/t10k-labels-idx1-ubyte.gz to data/MNIST/raw\n",
      "\n"
     ]
    },
    {
     "name": "stderr",
     "output_type": "stream",
     "text": [
      "\n"
     ]
    }
   ],
   "source": [
    "train_data = datasets.MNIST(\n",
    "    root = 'data',\n",
    "    train = True,\n",
    "    transform = ToTensor(),\n",
    "    download = True\n",
    ")\n",
    "\n",
    "test_data = datasets.MNIST(\n",
    "    root = 'data',\n",
    "    train = False,\n",
    "    transform = ToTensor(),\n",
    "    download = True\n",
    ")"
   ]
  },
  {
   "cell_type": "code",
   "execution_count": 5,
   "id": "aa165b2b",
   "metadata": {},
   "outputs": [
    {
     "data": {
      "text/plain": [
       "Dataset MNIST\n",
       "    Number of datapoints: 60000\n",
       "    Root location: data\n",
       "    Split: Train\n",
       "    StandardTransform\n",
       "Transform: ToTensor()"
      ]
     },
     "execution_count": 5,
     "metadata": {},
     "output_type": "execute_result"
    }
   ],
   "source": [
    "train_data"
   ]
  },
  {
   "cell_type": "code",
   "execution_count": 6,
   "id": "f3c203c3",
   "metadata": {},
   "outputs": [
    {
     "data": {
      "text/plain": [
       "Dataset MNIST\n",
       "    Number of datapoints: 10000\n",
       "    Root location: data\n",
       "    Split: Test\n",
       "    StandardTransform\n",
       "Transform: ToTensor()"
      ]
     },
     "execution_count": 6,
     "metadata": {},
     "output_type": "execute_result"
    }
   ],
   "source": [
    "test_data"
   ]
  },
  {
   "cell_type": "code",
   "execution_count": 8,
   "id": "68f91518",
   "metadata": {},
   "outputs": [
    {
     "data": {
      "text/plain": [
       "tensor([[[0, 0, 0,  ..., 0, 0, 0],\n",
       "         [0, 0, 0,  ..., 0, 0, 0],\n",
       "         [0, 0, 0,  ..., 0, 0, 0],\n",
       "         ...,\n",
       "         [0, 0, 0,  ..., 0, 0, 0],\n",
       "         [0, 0, 0,  ..., 0, 0, 0],\n",
       "         [0, 0, 0,  ..., 0, 0, 0]],\n",
       "\n",
       "        [[0, 0, 0,  ..., 0, 0, 0],\n",
       "         [0, 0, 0,  ..., 0, 0, 0],\n",
       "         [0, 0, 0,  ..., 0, 0, 0],\n",
       "         ...,\n",
       "         [0, 0, 0,  ..., 0, 0, 0],\n",
       "         [0, 0, 0,  ..., 0, 0, 0],\n",
       "         [0, 0, 0,  ..., 0, 0, 0]],\n",
       "\n",
       "        [[0, 0, 0,  ..., 0, 0, 0],\n",
       "         [0, 0, 0,  ..., 0, 0, 0],\n",
       "         [0, 0, 0,  ..., 0, 0, 0],\n",
       "         ...,\n",
       "         [0, 0, 0,  ..., 0, 0, 0],\n",
       "         [0, 0, 0,  ..., 0, 0, 0],\n",
       "         [0, 0, 0,  ..., 0, 0, 0]],\n",
       "\n",
       "        ...,\n",
       "\n",
       "        [[0, 0, 0,  ..., 0, 0, 0],\n",
       "         [0, 0, 0,  ..., 0, 0, 0],\n",
       "         [0, 0, 0,  ..., 0, 0, 0],\n",
       "         ...,\n",
       "         [0, 0, 0,  ..., 0, 0, 0],\n",
       "         [0, 0, 0,  ..., 0, 0, 0],\n",
       "         [0, 0, 0,  ..., 0, 0, 0]],\n",
       "\n",
       "        [[0, 0, 0,  ..., 0, 0, 0],\n",
       "         [0, 0, 0,  ..., 0, 0, 0],\n",
       "         [0, 0, 0,  ..., 0, 0, 0],\n",
       "         ...,\n",
       "         [0, 0, 0,  ..., 0, 0, 0],\n",
       "         [0, 0, 0,  ..., 0, 0, 0],\n",
       "         [0, 0, 0,  ..., 0, 0, 0]],\n",
       "\n",
       "        [[0, 0, 0,  ..., 0, 0, 0],\n",
       "         [0, 0, 0,  ..., 0, 0, 0],\n",
       "         [0, 0, 0,  ..., 0, 0, 0],\n",
       "         ...,\n",
       "         [0, 0, 0,  ..., 0, 0, 0],\n",
       "         [0, 0, 0,  ..., 0, 0, 0],\n",
       "         [0, 0, 0,  ..., 0, 0, 0]]], dtype=torch.uint8)"
      ]
     },
     "execution_count": 8,
     "metadata": {},
     "output_type": "execute_result"
    }
   ],
   "source": [
    "train_data.data"
   ]
  },
  {
   "cell_type": "code",
   "execution_count": 9,
   "id": "089727e9",
   "metadata": {},
   "outputs": [
    {
     "data": {
      "text/plain": [
       "torch.Size([60000])"
      ]
     },
     "execution_count": 9,
     "metadata": {},
     "output_type": "execute_result"
    }
   ],
   "source": [
    "train_data.targets.size()"
   ]
  },
  {
   "cell_type": "code",
   "execution_count": 10,
   "id": "e9320be2",
   "metadata": {},
   "outputs": [
    {
     "data": {
      "text/plain": [
       "tensor([5, 0, 4,  ..., 5, 6, 8])"
      ]
     },
     "execution_count": 10,
     "metadata": {},
     "output_type": "execute_result"
    }
   ],
   "source": [
    "train_data.targets"
   ]
  },
  {
   "cell_type": "code",
   "execution_count": 11,
   "id": "642bfa83",
   "metadata": {},
   "outputs": [],
   "source": [
    "from torch.utils.data import DataLoader\n",
    "loaders = {\n",
    "    'train': DataLoader(train_data, batch_size=100, shuffle=True, num_workers=1),\n",
    "    'test': DataLoader(test_data, batch_size=100, shuffle=True, num_workers=1)\n",
    "}"
   ]
  },
  {
   "cell_type": "code",
   "execution_count": 12,
   "id": "f7abbe50",
   "metadata": {},
   "outputs": [
    {
     "data": {
      "text/plain": [
       "{'train': <torch.utils.data.dataloader.DataLoader at 0x15e6a48d0>,\n",
       " 'test': <torch.utils.data.dataloader.DataLoader at 0x15e6a6750>}"
      ]
     },
     "execution_count": 12,
     "metadata": {},
     "output_type": "execute_result"
    }
   ],
   "source": [
    "loaders"
   ]
  },
  {
   "cell_type": "code",
   "execution_count": 13,
   "id": "00b36eb6",
   "metadata": {},
   "outputs": [],
   "source": [
    "import torch.nn as nn \n",
    "import torch.nn.functional as F\n",
    "import torch.optim as optim\n",
    "\n",
    "class CNN(nn.Module):\n",
    "\n",
    "    def __init__(self):\n",
    "        super(CNN, self).__init__()\n",
    "\n",
    "        # Convolutional Layer\n",
    "        self.conv1 = nn.Conv2d(1, 10, kernel_size=5)\n",
    "        self.conv2 = nn.Conv2d(10, 20, kernel_size=5)\n",
    "        self.conv2_drop = nn.Dropout2d()\n",
    "\n",
    "        # Fully Connected Layer, 10 outputs for 10 digits\n",
    "        self.fc1 = nn.Linear(320, 50)\n",
    "        self.fc2 = nn.Linear(50, 10)\n",
    "\n",
    "    def forward(self, x):\n",
    "        x = F.relu(F.max_pool2d(self.conv1(x), 2))\n",
    "        x = F.relu(F.max_pool2d(self.conv2_drop(self.conv2(x)), 2))\n",
    "        # Now reshape the data\n",
    "        x = x.view(-1, 320)\n",
    "        x = F.relu(self.fc1(x))\n",
    "        x = F.dropout(x, training=self.training)\n",
    "        x = self.fc2(x)\n",
    "\n",
    "        return F.softmax(x)"
   ]
  },
  {
   "cell_type": "code",
   "execution_count": 23,
   "id": "1d353371",
   "metadata": {},
   "outputs": [],
   "source": [
    "import torch\n",
    "\n",
    "device = torch.device('cude' if torch.cuda.is_available() else 'cpu')\n",
    "\n",
    "model = CNN().to(device)\n",
    "\n",
    "optimizer = optim.Adam(model.parameters(), lr=0.001)\n",
    "\n",
    "loss_fn = nn.CrossEntropyLoss()\n",
    "\n",
    "def train(epoch):\n",
    "    model.train()\n",
    "    for batch_idx, (data, target) in enumerate(loaders['train']):\n",
    "        data, target = data.to(device), target.to(device)\n",
    "        optimizer.zero_grad()\n",
    "        # Get output from the model\n",
    "        output = model(data)\n",
    "        # Calculate loss\n",
    "        loss = loss_fn(output, target)\n",
    "        # Backpropagation\n",
    "        loss.backward()\n",
    "        optimizer.step()\n",
    "        if batch_idx % 20 == 0:\n",
    "            print('Train Epoch: {} [{}/{} ({:.0f}%)]\\tLoss: {:.6f}'.format(\n",
    "                epoch, batch_idx * len(data), len(loaders['train'].dataset),\n",
    "                100. * batch_idx / len(loaders['train']), loss.item()))\n",
    "            \n",
    "def test():\n",
    "    model.eval()\n",
    "\n",
    "    test_loss = 0\n",
    "    correct = 0\n",
    "\n",
    "    with torch.no_grad():\n",
    "        for data, target in loaders['test']:\n",
    "            data, target = data.to(device), target.to(device)\n",
    "            output = model(data)\n",
    "            test_loss += loss_fn(output, target).item()\n",
    "            pred = output.argmax(dim=1, keepdim=True)\n",
    "            correct += pred.eq(target.view_as(pred)).sum().item()\n",
    "    \n",
    "    test_loss /= len(loaders['test'].dataset)\n",
    "    print(f'\\nTest set: Average loss: {test_loss:.4f}, Accuracy {correct}/{len(loaders[\"test\"].dataset)} ({100. * correct / len(loaders[\"test\"].dataset):.0f}%)\\n')\n"
   ]
  },
  {
   "cell_type": "code",
   "execution_count": 24,
   "id": "4aa57b6d",
   "metadata": {},
   "outputs": [
    {
     "name": "stderr",
     "output_type": "stream",
     "text": [
      "0.00s - Debugger warning: It seems that frozen modules are being used, which may\n",
      "0.00s - make the debugger miss breakpoints. Please pass -Xfrozen_modules=off\n",
      "0.00s - to python to disable frozen modules.\n",
      "0.00s - Note: Debugging will proceed. Set PYDEVD_DISABLE_FILE_VALIDATION=1 to disable this validation.\n",
      "/var/folders/8_/zwdgvq8s7sg2krgqt5kmw5br0000gn/T/ipykernel_55690/772288725.py:28: UserWarning: Implicit dimension choice for softmax has been deprecated. Change the call to include dim=X as an argument.\n",
      "  return F.softmax(x)\n"
     ]
    },
    {
     "name": "stdout",
     "output_type": "stream",
     "text": [
      "Train Epoch: 1 [0/60000 (0%)]\tLoss: 2.301122\n",
      "Train Epoch: 1 [2000/60000 (3%)]\tLoss: 2.291342\n",
      "Train Epoch: 1 [4000/60000 (7%)]\tLoss: 2.252569\n",
      "Train Epoch: 1 [6000/60000 (10%)]\tLoss: 2.033318\n",
      "Train Epoch: 1 [8000/60000 (13%)]\tLoss: 1.960463\n",
      "Train Epoch: 1 [10000/60000 (17%)]\tLoss: 1.840258\n",
      "Train Epoch: 1 [12000/60000 (20%)]\tLoss: 1.793065\n",
      "Train Epoch: 1 [14000/60000 (23%)]\tLoss: 1.826111\n",
      "Train Epoch: 1 [16000/60000 (27%)]\tLoss: 1.764515\n",
      "Train Epoch: 1 [18000/60000 (30%)]\tLoss: 1.762551\n",
      "Train Epoch: 1 [20000/60000 (33%)]\tLoss: 1.745879\n",
      "Train Epoch: 1 [22000/60000 (37%)]\tLoss: 1.660256\n",
      "Train Epoch: 1 [24000/60000 (40%)]\tLoss: 1.622873\n",
      "Train Epoch: 1 [26000/60000 (43%)]\tLoss: 1.727036\n",
      "Train Epoch: 1 [28000/60000 (47%)]\tLoss: 1.688785\n",
      "Train Epoch: 1 [30000/60000 (50%)]\tLoss: 1.674856\n",
      "Train Epoch: 1 [32000/60000 (53%)]\tLoss: 1.653031\n",
      "Train Epoch: 1 [34000/60000 (57%)]\tLoss: 1.639920\n",
      "Train Epoch: 1 [36000/60000 (60%)]\tLoss: 1.611534\n",
      "Train Epoch: 1 [38000/60000 (63%)]\tLoss: 1.639712\n",
      "Train Epoch: 1 [40000/60000 (67%)]\tLoss: 1.612648\n",
      "Train Epoch: 1 [42000/60000 (70%)]\tLoss: 1.602233\n",
      "Train Epoch: 1 [44000/60000 (73%)]\tLoss: 1.618495\n",
      "Train Epoch: 1 [46000/60000 (77%)]\tLoss: 1.634661\n",
      "Train Epoch: 1 [48000/60000 (80%)]\tLoss: 1.658018\n",
      "Train Epoch: 1 [50000/60000 (83%)]\tLoss: 1.577341\n",
      "Train Epoch: 1 [52000/60000 (87%)]\tLoss: 1.596650\n",
      "Train Epoch: 1 [54000/60000 (90%)]\tLoss: 1.617521\n",
      "Train Epoch: 1 [56000/60000 (93%)]\tLoss: 1.621731\n",
      "Train Epoch: 1 [58000/60000 (97%)]\tLoss: 1.581741\n"
     ]
    },
    {
     "name": "stderr",
     "output_type": "stream",
     "text": [
      "0.00s - Debugger warning: It seems that frozen modules are being used, which may\n",
      "0.00s - make the debugger miss breakpoints. Please pass -Xfrozen_modules=off\n",
      "0.00s - to python to disable frozen modules.\n",
      "0.00s - Note: Debugging will proceed. Set PYDEVD_DISABLE_FILE_VALIDATION=1 to disable this validation.\n"
     ]
    },
    {
     "name": "stdout",
     "output_type": "stream",
     "text": [
      "\n",
      "Test set: Average loss: 0.0153, Accuracy 9359/10000 (94%)\n",
      "\n"
     ]
    },
    {
     "name": "stderr",
     "output_type": "stream",
     "text": [
      "0.00s - Debugger warning: It seems that frozen modules are being used, which may\n",
      "0.00s - make the debugger miss breakpoints. Please pass -Xfrozen_modules=off\n",
      "0.00s - to python to disable frozen modules.\n",
      "0.00s - Note: Debugging will proceed. Set PYDEVD_DISABLE_FILE_VALIDATION=1 to disable this validation.\n"
     ]
    },
    {
     "name": "stdout",
     "output_type": "stream",
     "text": [
      "Train Epoch: 2 [0/60000 (0%)]\tLoss: 1.586815\n",
      "Train Epoch: 2 [2000/60000 (3%)]\tLoss: 1.593674\n",
      "Train Epoch: 2 [4000/60000 (7%)]\tLoss: 1.610916\n",
      "Train Epoch: 2 [6000/60000 (10%)]\tLoss: 1.573946\n",
      "Train Epoch: 2 [8000/60000 (13%)]\tLoss: 1.583460\n",
      "Train Epoch: 2 [10000/60000 (17%)]\tLoss: 1.557602\n",
      "Train Epoch: 2 [12000/60000 (20%)]\tLoss: 1.566439\n",
      "Train Epoch: 2 [14000/60000 (23%)]\tLoss: 1.594279\n",
      "Train Epoch: 2 [16000/60000 (27%)]\tLoss: 1.553740\n",
      "Train Epoch: 2 [18000/60000 (30%)]\tLoss: 1.582371\n",
      "Train Epoch: 2 [20000/60000 (33%)]\tLoss: 1.535748\n",
      "Train Epoch: 2 [22000/60000 (37%)]\tLoss: 1.541762\n",
      "Train Epoch: 2 [24000/60000 (40%)]\tLoss: 1.572188\n",
      "Train Epoch: 2 [26000/60000 (43%)]\tLoss: 1.577557\n",
      "Train Epoch: 2 [28000/60000 (47%)]\tLoss: 1.541634\n",
      "Train Epoch: 2 [30000/60000 (50%)]\tLoss: 1.569324\n",
      "Train Epoch: 2 [32000/60000 (53%)]\tLoss: 1.570668\n",
      "Train Epoch: 2 [34000/60000 (57%)]\tLoss: 1.596623\n",
      "Train Epoch: 2 [36000/60000 (60%)]\tLoss: 1.541718\n",
      "Train Epoch: 2 [38000/60000 (63%)]\tLoss: 1.639834\n",
      "Train Epoch: 2 [40000/60000 (67%)]\tLoss: 1.616949\n",
      "Train Epoch: 2 [42000/60000 (70%)]\tLoss: 1.598717\n",
      "Train Epoch: 2 [44000/60000 (73%)]\tLoss: 1.587466\n",
      "Train Epoch: 2 [46000/60000 (77%)]\tLoss: 1.576188\n",
      "Train Epoch: 2 [48000/60000 (80%)]\tLoss: 1.549075\n",
      "Train Epoch: 2 [50000/60000 (83%)]\tLoss: 1.549822\n",
      "Train Epoch: 2 [52000/60000 (87%)]\tLoss: 1.601200\n",
      "Train Epoch: 2 [54000/60000 (90%)]\tLoss: 1.625858\n",
      "Train Epoch: 2 [56000/60000 (93%)]\tLoss: 1.593771\n",
      "Train Epoch: 2 [58000/60000 (97%)]\tLoss: 1.580261\n"
     ]
    },
    {
     "name": "stderr",
     "output_type": "stream",
     "text": [
      "0.00s - Debugger warning: It seems that frozen modules are being used, which may\n",
      "0.00s - make the debugger miss breakpoints. Please pass -Xfrozen_modules=off\n",
      "0.00s - to python to disable frozen modules.\n",
      "0.00s - Note: Debugging will proceed. Set PYDEVD_DISABLE_FILE_VALIDATION=1 to disable this validation.\n"
     ]
    },
    {
     "name": "stdout",
     "output_type": "stream",
     "text": [
      "\n",
      "Test set: Average loss: 0.0151, Accuracy 9521/10000 (95%)\n",
      "\n"
     ]
    },
    {
     "name": "stderr",
     "output_type": "stream",
     "text": [
      "0.00s - Debugger warning: It seems that frozen modules are being used, which may\n",
      "0.00s - make the debugger miss breakpoints. Please pass -Xfrozen_modules=off\n",
      "0.00s - to python to disable frozen modules.\n",
      "0.00s - Note: Debugging will proceed. Set PYDEVD_DISABLE_FILE_VALIDATION=1 to disable this validation.\n"
     ]
    },
    {
     "name": "stdout",
     "output_type": "stream",
     "text": [
      "Train Epoch: 3 [0/60000 (0%)]\tLoss: 1.582371\n",
      "Train Epoch: 3 [2000/60000 (3%)]\tLoss: 1.563848\n",
      "Train Epoch: 3 [4000/60000 (7%)]\tLoss: 1.542845\n",
      "Train Epoch: 3 [6000/60000 (10%)]\tLoss: 1.554214\n",
      "Train Epoch: 3 [8000/60000 (13%)]\tLoss: 1.624883\n",
      "Train Epoch: 3 [10000/60000 (17%)]\tLoss: 1.570241\n",
      "Train Epoch: 3 [12000/60000 (20%)]\tLoss: 1.554696\n",
      "Train Epoch: 3 [14000/60000 (23%)]\tLoss: 1.545573\n",
      "Train Epoch: 3 [16000/60000 (27%)]\tLoss: 1.557140\n",
      "Train Epoch: 3 [18000/60000 (30%)]\tLoss: 1.549617\n",
      "Train Epoch: 3 [20000/60000 (33%)]\tLoss: 1.572024\n",
      "Train Epoch: 3 [22000/60000 (37%)]\tLoss: 1.556338\n",
      "Train Epoch: 3 [24000/60000 (40%)]\tLoss: 1.576735\n",
      "Train Epoch: 3 [26000/60000 (43%)]\tLoss: 1.533066\n",
      "Train Epoch: 3 [28000/60000 (47%)]\tLoss: 1.541559\n",
      "Train Epoch: 3 [30000/60000 (50%)]\tLoss: 1.574289\n",
      "Train Epoch: 3 [32000/60000 (53%)]\tLoss: 1.543016\n",
      "Train Epoch: 3 [34000/60000 (57%)]\tLoss: 1.511618\n",
      "Train Epoch: 3 [36000/60000 (60%)]\tLoss: 1.536836\n",
      "Train Epoch: 3 [38000/60000 (63%)]\tLoss: 1.539863\n",
      "Train Epoch: 3 [40000/60000 (67%)]\tLoss: 1.560129\n",
      "Train Epoch: 3 [42000/60000 (70%)]\tLoss: 1.576622\n",
      "Train Epoch: 3 [44000/60000 (73%)]\tLoss: 1.537656\n",
      "Train Epoch: 3 [46000/60000 (77%)]\tLoss: 1.530950\n",
      "Train Epoch: 3 [48000/60000 (80%)]\tLoss: 1.531354\n",
      "Train Epoch: 3 [50000/60000 (83%)]\tLoss: 1.503658\n",
      "Train Epoch: 3 [52000/60000 (87%)]\tLoss: 1.550414\n",
      "Train Epoch: 3 [54000/60000 (90%)]\tLoss: 1.604543\n",
      "Train Epoch: 3 [56000/60000 (93%)]\tLoss: 1.597981\n",
      "Train Epoch: 3 [58000/60000 (97%)]\tLoss: 1.572178\n"
     ]
    },
    {
     "name": "stderr",
     "output_type": "stream",
     "text": [
      "0.00s - Debugger warning: It seems that frozen modules are being used, which may\n",
      "0.00s - make the debugger miss breakpoints. Please pass -Xfrozen_modules=off\n",
      "0.00s - to python to disable frozen modules.\n",
      "0.00s - Note: Debugging will proceed. Set PYDEVD_DISABLE_FILE_VALIDATION=1 to disable this validation.\n"
     ]
    },
    {
     "name": "stdout",
     "output_type": "stream",
     "text": [
      "\n",
      "Test set: Average loss: 0.0150, Accuracy 9605/10000 (96%)\n",
      "\n"
     ]
    },
    {
     "name": "stderr",
     "output_type": "stream",
     "text": [
      "0.00s - Debugger warning: It seems that frozen modules are being used, which may\n",
      "0.00s - make the debugger miss breakpoints. Please pass -Xfrozen_modules=off\n",
      "0.00s - to python to disable frozen modules.\n",
      "0.00s - Note: Debugging will proceed. Set PYDEVD_DISABLE_FILE_VALIDATION=1 to disable this validation.\n"
     ]
    },
    {
     "name": "stdout",
     "output_type": "stream",
     "text": [
      "Train Epoch: 4 [0/60000 (0%)]\tLoss: 1.564411\n",
      "Train Epoch: 4 [2000/60000 (3%)]\tLoss: 1.537811\n",
      "Train Epoch: 4 [4000/60000 (7%)]\tLoss: 1.546389\n",
      "Train Epoch: 4 [6000/60000 (10%)]\tLoss: 1.563647\n",
      "Train Epoch: 4 [8000/60000 (13%)]\tLoss: 1.524637\n",
      "Train Epoch: 4 [10000/60000 (17%)]\tLoss: 1.551088\n",
      "Train Epoch: 4 [12000/60000 (20%)]\tLoss: 1.552058\n",
      "Train Epoch: 4 [14000/60000 (23%)]\tLoss: 1.492138\n",
      "Train Epoch: 4 [16000/60000 (27%)]\tLoss: 1.538976\n",
      "Train Epoch: 4 [18000/60000 (30%)]\tLoss: 1.548308\n",
      "Train Epoch: 4 [20000/60000 (33%)]\tLoss: 1.585660\n",
      "Train Epoch: 4 [22000/60000 (37%)]\tLoss: 1.542507\n",
      "Train Epoch: 4 [24000/60000 (40%)]\tLoss: 1.576112\n",
      "Train Epoch: 4 [26000/60000 (43%)]\tLoss: 1.577055\n",
      "Train Epoch: 4 [28000/60000 (47%)]\tLoss: 1.530329\n",
      "Train Epoch: 4 [30000/60000 (50%)]\tLoss: 1.573539\n",
      "Train Epoch: 4 [32000/60000 (53%)]\tLoss: 1.544305\n",
      "Train Epoch: 4 [34000/60000 (57%)]\tLoss: 1.524215\n",
      "Train Epoch: 4 [36000/60000 (60%)]\tLoss: 1.524931\n",
      "Train Epoch: 4 [38000/60000 (63%)]\tLoss: 1.515917\n",
      "Train Epoch: 4 [40000/60000 (67%)]\tLoss: 1.609079\n",
      "Train Epoch: 4 [42000/60000 (70%)]\tLoss: 1.574195\n",
      "Train Epoch: 4 [44000/60000 (73%)]\tLoss: 1.536503\n",
      "Train Epoch: 4 [46000/60000 (77%)]\tLoss: 1.568003\n",
      "Train Epoch: 4 [48000/60000 (80%)]\tLoss: 1.580404\n",
      "Train Epoch: 4 [50000/60000 (83%)]\tLoss: 1.599135\n",
      "Train Epoch: 4 [52000/60000 (87%)]\tLoss: 1.529280\n",
      "Train Epoch: 4 [54000/60000 (90%)]\tLoss: 1.542676\n",
      "Train Epoch: 4 [56000/60000 (93%)]\tLoss: 1.516378\n",
      "Train Epoch: 4 [58000/60000 (97%)]\tLoss: 1.586639\n"
     ]
    },
    {
     "name": "stderr",
     "output_type": "stream",
     "text": [
      "0.00s - Debugger warning: It seems that frozen modules are being used, which may\n",
      "0.00s - make the debugger miss breakpoints. Please pass -Xfrozen_modules=off\n",
      "0.00s - to python to disable frozen modules.\n",
      "0.00s - Note: Debugging will proceed. Set PYDEVD_DISABLE_FILE_VALIDATION=1 to disable this validation.\n"
     ]
    },
    {
     "name": "stdout",
     "output_type": "stream",
     "text": [
      "\n",
      "Test set: Average loss: 0.0150, Accuracy 9617/10000 (96%)\n",
      "\n"
     ]
    },
    {
     "name": "stderr",
     "output_type": "stream",
     "text": [
      "0.00s - Debugger warning: It seems that frozen modules are being used, which may\n",
      "0.00s - make the debugger miss breakpoints. Please pass -Xfrozen_modules=off\n",
      "0.00s - to python to disable frozen modules.\n",
      "0.00s - Note: Debugging will proceed. Set PYDEVD_DISABLE_FILE_VALIDATION=1 to disable this validation.\n"
     ]
    },
    {
     "name": "stdout",
     "output_type": "stream",
     "text": [
      "Train Epoch: 5 [0/60000 (0%)]\tLoss: 1.575808\n",
      "Train Epoch: 5 [2000/60000 (3%)]\tLoss: 1.572318\n",
      "Train Epoch: 5 [4000/60000 (7%)]\tLoss: 1.579865\n",
      "Train Epoch: 5 [6000/60000 (10%)]\tLoss: 1.541441\n",
      "Train Epoch: 5 [8000/60000 (13%)]\tLoss: 1.521828\n",
      "Train Epoch: 5 [10000/60000 (17%)]\tLoss: 1.561922\n",
      "Train Epoch: 5 [12000/60000 (20%)]\tLoss: 1.549809\n",
      "Train Epoch: 5 [14000/60000 (23%)]\tLoss: 1.506010\n",
      "Train Epoch: 5 [16000/60000 (27%)]\tLoss: 1.537122\n",
      "Train Epoch: 5 [18000/60000 (30%)]\tLoss: 1.574282\n",
      "Train Epoch: 5 [20000/60000 (33%)]\tLoss: 1.549763\n",
      "Train Epoch: 5 [22000/60000 (37%)]\tLoss: 1.555355\n",
      "Train Epoch: 5 [24000/60000 (40%)]\tLoss: 1.474074\n",
      "Train Epoch: 5 [26000/60000 (43%)]\tLoss: 1.529290\n",
      "Train Epoch: 5 [28000/60000 (47%)]\tLoss: 1.531533\n",
      "Train Epoch: 5 [30000/60000 (50%)]\tLoss: 1.496386\n",
      "Train Epoch: 5 [32000/60000 (53%)]\tLoss: 1.519618\n",
      "Train Epoch: 5 [34000/60000 (57%)]\tLoss: 1.524159\n",
      "Train Epoch: 5 [36000/60000 (60%)]\tLoss: 1.500501\n",
      "Train Epoch: 5 [38000/60000 (63%)]\tLoss: 1.550372\n",
      "Train Epoch: 5 [40000/60000 (67%)]\tLoss: 1.569139\n",
      "Train Epoch: 5 [42000/60000 (70%)]\tLoss: 1.558334\n",
      "Train Epoch: 5 [44000/60000 (73%)]\tLoss: 1.525325\n",
      "Train Epoch: 5 [46000/60000 (77%)]\tLoss: 1.549277\n",
      "Train Epoch: 5 [48000/60000 (80%)]\tLoss: 1.544999\n",
      "Train Epoch: 5 [50000/60000 (83%)]\tLoss: 1.488663\n",
      "Train Epoch: 5 [52000/60000 (87%)]\tLoss: 1.546111\n",
      "Train Epoch: 5 [54000/60000 (90%)]\tLoss: 1.498478\n",
      "Train Epoch: 5 [56000/60000 (93%)]\tLoss: 1.509133\n",
      "Train Epoch: 5 [58000/60000 (97%)]\tLoss: 1.550526\n"
     ]
    },
    {
     "name": "stderr",
     "output_type": "stream",
     "text": [
      "0.00s - Debugger warning: It seems that frozen modules are being used, which may\n",
      "0.00s - make the debugger miss breakpoints. Please pass -Xfrozen_modules=off\n",
      "0.00s - to python to disable frozen modules.\n",
      "0.00s - Note: Debugging will proceed. Set PYDEVD_DISABLE_FILE_VALIDATION=1 to disable this validation.\n"
     ]
    },
    {
     "name": "stdout",
     "output_type": "stream",
     "text": [
      "\n",
      "Test set: Average loss: 0.0150, Accuracy 9656/10000 (97%)\n",
      "\n"
     ]
    },
    {
     "name": "stderr",
     "output_type": "stream",
     "text": [
      "0.00s - Debugger warning: It seems that frozen modules are being used, which may\n",
      "0.00s - make the debugger miss breakpoints. Please pass -Xfrozen_modules=off\n",
      "0.00s - to python to disable frozen modules.\n",
      "0.00s - Note: Debugging will proceed. Set PYDEVD_DISABLE_FILE_VALIDATION=1 to disable this validation.\n"
     ]
    },
    {
     "name": "stdout",
     "output_type": "stream",
     "text": [
      "Train Epoch: 6 [0/60000 (0%)]\tLoss: 1.510708\n",
      "Train Epoch: 6 [2000/60000 (3%)]\tLoss: 1.588737\n",
      "Train Epoch: 6 [4000/60000 (7%)]\tLoss: 1.530821\n",
      "Train Epoch: 6 [6000/60000 (10%)]\tLoss: 1.503227\n",
      "Train Epoch: 6 [8000/60000 (13%)]\tLoss: 1.569412\n",
      "Train Epoch: 6 [10000/60000 (17%)]\tLoss: 1.578902\n",
      "Train Epoch: 6 [12000/60000 (20%)]\tLoss: 1.498904\n",
      "Train Epoch: 6 [14000/60000 (23%)]\tLoss: 1.562650\n",
      "Train Epoch: 6 [16000/60000 (27%)]\tLoss: 1.535777\n",
      "Train Epoch: 6 [18000/60000 (30%)]\tLoss: 1.548182\n",
      "Train Epoch: 6 [20000/60000 (33%)]\tLoss: 1.545981\n",
      "Train Epoch: 6 [22000/60000 (37%)]\tLoss: 1.546035\n",
      "Train Epoch: 6 [24000/60000 (40%)]\tLoss: 1.552134\n",
      "Train Epoch: 6 [26000/60000 (43%)]\tLoss: 1.514127\n",
      "Train Epoch: 6 [28000/60000 (47%)]\tLoss: 1.547321\n",
      "Train Epoch: 6 [30000/60000 (50%)]\tLoss: 1.518097\n",
      "Train Epoch: 6 [32000/60000 (53%)]\tLoss: 1.492762\n",
      "Train Epoch: 6 [34000/60000 (57%)]\tLoss: 1.539465\n",
      "Train Epoch: 6 [36000/60000 (60%)]\tLoss: 1.531493\n",
      "Train Epoch: 6 [38000/60000 (63%)]\tLoss: 1.543103\n",
      "Train Epoch: 6 [40000/60000 (67%)]\tLoss: 1.534922\n",
      "Train Epoch: 6 [42000/60000 (70%)]\tLoss: 1.525219\n",
      "Train Epoch: 6 [44000/60000 (73%)]\tLoss: 1.543589\n",
      "Train Epoch: 6 [46000/60000 (77%)]\tLoss: 1.515157\n",
      "Train Epoch: 6 [48000/60000 (80%)]\tLoss: 1.513728\n",
      "Train Epoch: 6 [50000/60000 (83%)]\tLoss: 1.512735\n",
      "Train Epoch: 6 [52000/60000 (87%)]\tLoss: 1.531218\n",
      "Train Epoch: 6 [54000/60000 (90%)]\tLoss: 1.522114\n",
      "Train Epoch: 6 [56000/60000 (93%)]\tLoss: 1.527375\n",
      "Train Epoch: 6 [58000/60000 (97%)]\tLoss: 1.558757\n"
     ]
    },
    {
     "name": "stderr",
     "output_type": "stream",
     "text": [
      "0.00s - Debugger warning: It seems that frozen modules are being used, which may\n",
      "0.00s - make the debugger miss breakpoints. Please pass -Xfrozen_modules=off\n",
      "0.00s - to python to disable frozen modules.\n",
      "0.00s - Note: Debugging will proceed. Set PYDEVD_DISABLE_FILE_VALIDATION=1 to disable this validation.\n"
     ]
    },
    {
     "name": "stdout",
     "output_type": "stream",
     "text": [
      "\n",
      "Test set: Average loss: 0.0150, Accuracy 9654/10000 (97%)\n",
      "\n"
     ]
    },
    {
     "name": "stderr",
     "output_type": "stream",
     "text": [
      "0.00s - Debugger warning: It seems that frozen modules are being used, which may\n",
      "0.00s - make the debugger miss breakpoints. Please pass -Xfrozen_modules=off\n",
      "0.00s - to python to disable frozen modules.\n",
      "0.00s - Note: Debugging will proceed. Set PYDEVD_DISABLE_FILE_VALIDATION=1 to disable this validation.\n"
     ]
    },
    {
     "name": "stdout",
     "output_type": "stream",
     "text": [
      "Train Epoch: 7 [0/60000 (0%)]\tLoss: 1.545335\n",
      "Train Epoch: 7 [2000/60000 (3%)]\tLoss: 1.555209\n",
      "Train Epoch: 7 [4000/60000 (7%)]\tLoss: 1.554775\n",
      "Train Epoch: 7 [6000/60000 (10%)]\tLoss: 1.516811\n",
      "Train Epoch: 7 [8000/60000 (13%)]\tLoss: 1.485572\n",
      "Train Epoch: 7 [10000/60000 (17%)]\tLoss: 1.517354\n",
      "Train Epoch: 7 [12000/60000 (20%)]\tLoss: 1.513165\n",
      "Train Epoch: 7 [14000/60000 (23%)]\tLoss: 1.551302\n",
      "Train Epoch: 7 [16000/60000 (27%)]\tLoss: 1.529254\n",
      "Train Epoch: 7 [18000/60000 (30%)]\tLoss: 1.548886\n",
      "Train Epoch: 7 [20000/60000 (33%)]\tLoss: 1.553564\n",
      "Train Epoch: 7 [22000/60000 (37%)]\tLoss: 1.546191\n",
      "Train Epoch: 7 [24000/60000 (40%)]\tLoss: 1.519066\n",
      "Train Epoch: 7 [26000/60000 (43%)]\tLoss: 1.496220\n",
      "Train Epoch: 7 [28000/60000 (47%)]\tLoss: 1.552546\n",
      "Train Epoch: 7 [30000/60000 (50%)]\tLoss: 1.525354\n",
      "Train Epoch: 7 [32000/60000 (53%)]\tLoss: 1.563036\n",
      "Train Epoch: 7 [34000/60000 (57%)]\tLoss: 1.562620\n",
      "Train Epoch: 7 [36000/60000 (60%)]\tLoss: 1.526513\n",
      "Train Epoch: 7 [38000/60000 (63%)]\tLoss: 1.506568\n",
      "Train Epoch: 7 [40000/60000 (67%)]\tLoss: 1.529752\n",
      "Train Epoch: 7 [42000/60000 (70%)]\tLoss: 1.503306\n",
      "Train Epoch: 7 [44000/60000 (73%)]\tLoss: 1.498230\n",
      "Train Epoch: 7 [46000/60000 (77%)]\tLoss: 1.512370\n",
      "Train Epoch: 7 [48000/60000 (80%)]\tLoss: 1.523125\n",
      "Train Epoch: 7 [50000/60000 (83%)]\tLoss: 1.512938\n",
      "Train Epoch: 7 [52000/60000 (87%)]\tLoss: 1.516112\n",
      "Train Epoch: 7 [54000/60000 (90%)]\tLoss: 1.541052\n",
      "Train Epoch: 7 [56000/60000 (93%)]\tLoss: 1.511940\n",
      "Train Epoch: 7 [58000/60000 (97%)]\tLoss: 1.538812\n"
     ]
    },
    {
     "name": "stderr",
     "output_type": "stream",
     "text": [
      "0.00s - Debugger warning: It seems that frozen modules are being used, which may\n",
      "0.00s - make the debugger miss breakpoints. Please pass -Xfrozen_modules=off\n",
      "0.00s - to python to disable frozen modules.\n",
      "0.00s - Note: Debugging will proceed. Set PYDEVD_DISABLE_FILE_VALIDATION=1 to disable this validation.\n"
     ]
    },
    {
     "name": "stdout",
     "output_type": "stream",
     "text": [
      "\n",
      "Test set: Average loss: 0.0149, Accuracy 9708/10000 (97%)\n",
      "\n"
     ]
    },
    {
     "name": "stderr",
     "output_type": "stream",
     "text": [
      "0.00s - Debugger warning: It seems that frozen modules are being used, which may\n",
      "0.00s - make the debugger miss breakpoints. Please pass -Xfrozen_modules=off\n",
      "0.00s - to python to disable frozen modules.\n",
      "0.00s - Note: Debugging will proceed. Set PYDEVD_DISABLE_FILE_VALIDATION=1 to disable this validation.\n"
     ]
    },
    {
     "name": "stdout",
     "output_type": "stream",
     "text": [
      "Train Epoch: 8 [0/60000 (0%)]\tLoss: 1.538054\n",
      "Train Epoch: 8 [2000/60000 (3%)]\tLoss: 1.534328\n",
      "Train Epoch: 8 [4000/60000 (7%)]\tLoss: 1.512790\n",
      "Train Epoch: 8 [6000/60000 (10%)]\tLoss: 1.530320\n",
      "Train Epoch: 8 [8000/60000 (13%)]\tLoss: 1.550302\n",
      "Train Epoch: 8 [10000/60000 (17%)]\tLoss: 1.491084\n",
      "Train Epoch: 8 [12000/60000 (20%)]\tLoss: 1.506752\n",
      "Train Epoch: 8 [14000/60000 (23%)]\tLoss: 1.566517\n",
      "Train Epoch: 8 [16000/60000 (27%)]\tLoss: 1.553064\n",
      "Train Epoch: 8 [18000/60000 (30%)]\tLoss: 1.534902\n",
      "Train Epoch: 8 [20000/60000 (33%)]\tLoss: 1.495860\n",
      "Train Epoch: 8 [22000/60000 (37%)]\tLoss: 1.591371\n",
      "Train Epoch: 8 [24000/60000 (40%)]\tLoss: 1.536888\n",
      "Train Epoch: 8 [26000/60000 (43%)]\tLoss: 1.586296\n",
      "Train Epoch: 8 [28000/60000 (47%)]\tLoss: 1.501801\n",
      "Train Epoch: 8 [30000/60000 (50%)]\tLoss: 1.524825\n",
      "Train Epoch: 8 [32000/60000 (53%)]\tLoss: 1.533366\n",
      "Train Epoch: 8 [34000/60000 (57%)]\tLoss: 1.525098\n",
      "Train Epoch: 8 [36000/60000 (60%)]\tLoss: 1.518793\n",
      "Train Epoch: 8 [38000/60000 (63%)]\tLoss: 1.509668\n",
      "Train Epoch: 8 [40000/60000 (67%)]\tLoss: 1.555646\n",
      "Train Epoch: 8 [42000/60000 (70%)]\tLoss: 1.516432\n",
      "Train Epoch: 8 [44000/60000 (73%)]\tLoss: 1.519568\n",
      "Train Epoch: 8 [46000/60000 (77%)]\tLoss: 1.492393\n",
      "Train Epoch: 8 [48000/60000 (80%)]\tLoss: 1.517525\n",
      "Train Epoch: 8 [50000/60000 (83%)]\tLoss: 1.511436\n",
      "Train Epoch: 8 [52000/60000 (87%)]\tLoss: 1.511159\n",
      "Train Epoch: 8 [54000/60000 (90%)]\tLoss: 1.538643\n",
      "Train Epoch: 8 [56000/60000 (93%)]\tLoss: 1.502957\n",
      "Train Epoch: 8 [58000/60000 (97%)]\tLoss: 1.583108\n"
     ]
    },
    {
     "name": "stderr",
     "output_type": "stream",
     "text": [
      "0.00s - Debugger warning: It seems that frozen modules are being used, which may\n",
      "0.00s - make the debugger miss breakpoints. Please pass -Xfrozen_modules=off\n",
      "0.00s - to python to disable frozen modules.\n",
      "0.00s - Note: Debugging will proceed. Set PYDEVD_DISABLE_FILE_VALIDATION=1 to disable this validation.\n"
     ]
    },
    {
     "name": "stdout",
     "output_type": "stream",
     "text": [
      "\n",
      "Test set: Average loss: 0.0149, Accuracy 9720/10000 (97%)\n",
      "\n"
     ]
    },
    {
     "name": "stderr",
     "output_type": "stream",
     "text": [
      "0.00s - Debugger warning: It seems that frozen modules are being used, which may\n",
      "0.00s - make the debugger miss breakpoints. Please pass -Xfrozen_modules=off\n",
      "0.00s - to python to disable frozen modules.\n",
      "0.00s - Note: Debugging will proceed. Set PYDEVD_DISABLE_FILE_VALIDATION=1 to disable this validation.\n"
     ]
    },
    {
     "name": "stdout",
     "output_type": "stream",
     "text": [
      "Train Epoch: 9 [0/60000 (0%)]\tLoss: 1.526721\n",
      "Train Epoch: 9 [2000/60000 (3%)]\tLoss: 1.514489\n",
      "Train Epoch: 9 [4000/60000 (7%)]\tLoss: 1.524985\n",
      "Train Epoch: 9 [6000/60000 (10%)]\tLoss: 1.537595\n",
      "Train Epoch: 9 [8000/60000 (13%)]\tLoss: 1.513435\n",
      "Train Epoch: 9 [10000/60000 (17%)]\tLoss: 1.540795\n",
      "Train Epoch: 9 [12000/60000 (20%)]\tLoss: 1.520660\n",
      "Train Epoch: 9 [14000/60000 (23%)]\tLoss: 1.538409\n",
      "Train Epoch: 9 [16000/60000 (27%)]\tLoss: 1.583185\n",
      "Train Epoch: 9 [18000/60000 (30%)]\tLoss: 1.500991\n",
      "Train Epoch: 9 [20000/60000 (33%)]\tLoss: 1.538952\n",
      "Train Epoch: 9 [22000/60000 (37%)]\tLoss: 1.526661\n",
      "Train Epoch: 9 [24000/60000 (40%)]\tLoss: 1.528756\n",
      "Train Epoch: 9 [26000/60000 (43%)]\tLoss: 1.494189\n",
      "Train Epoch: 9 [28000/60000 (47%)]\tLoss: 1.521549\n",
      "Train Epoch: 9 [30000/60000 (50%)]\tLoss: 1.533153\n",
      "Train Epoch: 9 [32000/60000 (53%)]\tLoss: 1.557878\n",
      "Train Epoch: 9 [34000/60000 (57%)]\tLoss: 1.536547\n",
      "Train Epoch: 9 [36000/60000 (60%)]\tLoss: 1.550984\n",
      "Train Epoch: 9 [38000/60000 (63%)]\tLoss: 1.492613\n",
      "Train Epoch: 9 [40000/60000 (67%)]\tLoss: 1.492469\n",
      "Train Epoch: 9 [42000/60000 (70%)]\tLoss: 1.527699\n",
      "Train Epoch: 9 [44000/60000 (73%)]\tLoss: 1.505485\n",
      "Train Epoch: 9 [46000/60000 (77%)]\tLoss: 1.516250\n",
      "Train Epoch: 9 [48000/60000 (80%)]\tLoss: 1.501009\n",
      "Train Epoch: 9 [50000/60000 (83%)]\tLoss: 1.541312\n",
      "Train Epoch: 9 [52000/60000 (87%)]\tLoss: 1.542158\n",
      "Train Epoch: 9 [54000/60000 (90%)]\tLoss: 1.544706\n",
      "Train Epoch: 9 [56000/60000 (93%)]\tLoss: 1.506306\n",
      "Train Epoch: 9 [58000/60000 (97%)]\tLoss: 1.571350\n"
     ]
    },
    {
     "name": "stderr",
     "output_type": "stream",
     "text": [
      "0.00s - Debugger warning: It seems that frozen modules are being used, which may\n",
      "0.00s - make the debugger miss breakpoints. Please pass -Xfrozen_modules=off\n",
      "0.00s - to python to disable frozen modules.\n",
      "0.00s - Note: Debugging will proceed. Set PYDEVD_DISABLE_FILE_VALIDATION=1 to disable this validation.\n"
     ]
    },
    {
     "name": "stdout",
     "output_type": "stream",
     "text": [
      "\n",
      "Test set: Average loss: 0.0149, Accuracy 9732/10000 (97%)\n",
      "\n"
     ]
    },
    {
     "name": "stderr",
     "output_type": "stream",
     "text": [
      "0.00s - Debugger warning: It seems that frozen modules are being used, which may\n",
      "0.00s - make the debugger miss breakpoints. Please pass -Xfrozen_modules=off\n",
      "0.00s - to python to disable frozen modules.\n",
      "0.00s - Note: Debugging will proceed. Set PYDEVD_DISABLE_FILE_VALIDATION=1 to disable this validation.\n"
     ]
    },
    {
     "name": "stdout",
     "output_type": "stream",
     "text": [
      "Train Epoch: 10 [0/60000 (0%)]\tLoss: 1.522892\n",
      "Train Epoch: 10 [2000/60000 (3%)]\tLoss: 1.493500\n",
      "Train Epoch: 10 [4000/60000 (7%)]\tLoss: 1.514041\n",
      "Train Epoch: 10 [6000/60000 (10%)]\tLoss: 1.514003\n",
      "Train Epoch: 10 [8000/60000 (13%)]\tLoss: 1.536358\n",
      "Train Epoch: 10 [10000/60000 (17%)]\tLoss: 1.488125\n",
      "Train Epoch: 10 [12000/60000 (20%)]\tLoss: 1.551532\n",
      "Train Epoch: 10 [14000/60000 (23%)]\tLoss: 1.523754\n",
      "Train Epoch: 10 [16000/60000 (27%)]\tLoss: 1.530546\n",
      "Train Epoch: 10 [18000/60000 (30%)]\tLoss: 1.531755\n",
      "Train Epoch: 10 [20000/60000 (33%)]\tLoss: 1.516042\n",
      "Train Epoch: 10 [22000/60000 (37%)]\tLoss: 1.548903\n",
      "Train Epoch: 10 [24000/60000 (40%)]\tLoss: 1.517041\n",
      "Train Epoch: 10 [26000/60000 (43%)]\tLoss: 1.504199\n",
      "Train Epoch: 10 [28000/60000 (47%)]\tLoss: 1.533267\n",
      "Train Epoch: 10 [30000/60000 (50%)]\tLoss: 1.543018\n",
      "Train Epoch: 10 [32000/60000 (53%)]\tLoss: 1.549213\n",
      "Train Epoch: 10 [34000/60000 (57%)]\tLoss: 1.553700\n",
      "Train Epoch: 10 [36000/60000 (60%)]\tLoss: 1.541805\n",
      "Train Epoch: 10 [38000/60000 (63%)]\tLoss: 1.523172\n",
      "Train Epoch: 10 [40000/60000 (67%)]\tLoss: 1.565622\n",
      "Train Epoch: 10 [42000/60000 (70%)]\tLoss: 1.518473\n",
      "Train Epoch: 10 [44000/60000 (73%)]\tLoss: 1.502153\n",
      "Train Epoch: 10 [46000/60000 (77%)]\tLoss: 1.496420\n",
      "Train Epoch: 10 [48000/60000 (80%)]\tLoss: 1.516668\n",
      "Train Epoch: 10 [50000/60000 (83%)]\tLoss: 1.523484\n",
      "Train Epoch: 10 [52000/60000 (87%)]\tLoss: 1.510928\n",
      "Train Epoch: 10 [54000/60000 (90%)]\tLoss: 1.533938\n",
      "Train Epoch: 10 [56000/60000 (93%)]\tLoss: 1.504454\n",
      "Train Epoch: 10 [58000/60000 (97%)]\tLoss: 1.498302\n"
     ]
    },
    {
     "name": "stderr",
     "output_type": "stream",
     "text": [
      "0.00s - Debugger warning: It seems that frozen modules are being used, which may\n",
      "0.00s - make the debugger miss breakpoints. Please pass -Xfrozen_modules=off\n",
      "0.00s - to python to disable frozen modules.\n",
      "0.00s - Note: Debugging will proceed. Set PYDEVD_DISABLE_FILE_VALIDATION=1 to disable this validation.\n"
     ]
    },
    {
     "name": "stdout",
     "output_type": "stream",
     "text": [
      "\n",
      "Test set: Average loss: 0.0149, Accuracy 9735/10000 (97%)\n",
      "\n"
     ]
    }
   ],
   "source": [
    "for epoch in range(1, 11):\n",
    "    train(epoch)\n",
    "    test()"
   ]
  },
  {
   "cell_type": "code",
   "execution_count": 26,
   "id": "cfa37432",
   "metadata": {},
   "outputs": [
    {
     "name": "stdout",
     "output_type": "stream",
     "text": [
      "Prediction: 1\n"
     ]
    },
    {
     "name": "stderr",
     "output_type": "stream",
     "text": [
      "/var/folders/8_/zwdgvq8s7sg2krgqt5kmw5br0000gn/T/ipykernel_55690/772288725.py:28: UserWarning: Implicit dimension choice for softmax has been deprecated. Change the call to include dim=X as an argument.\n",
      "  return F.softmax(x)\n"
     ]
    },
    {
     "data": {
      "image/png": "[encoded data removed]",
      "text/plain": [
       "<Figure size 640x480 with 1 Axes>"
      ]
     },
     "metadata": {},
     "output_type": "display_data"
    }
   ],
   "source": [
    "import matplotlib.pyplot as plt\n",
    "\n",
    "model.eval()\n",
    "\n",
    "data, target = test_data[2]\n",
    "\n",
    "data = data.unsqueeze(0).to(device)\n",
    "\n",
    "output = model(data)\n",
    "\n",
    "prediction = output.argmax(dim=1, keepdim=True).item()\n",
    "\n",
    "print(f'Prediction: {prediction}')\n",
    "\n",
    "image = data.squeeze(0).squeeze(0).cpu().numpy()\n",
    "\n",
    "plt.imshow(image, cmap='gray')\n",
    "plt.show()"
   ]
  },
  {
   "cell_type": "code",
   "execution_count": null,
   "id": "9a61d09d",
   "metadata": {},
   "outputs": [],
   "source": []
  }
 ],
 "metadata": {
  "kernelspec": {
   "display_name": "Python 3 (ipykernel)",
   "language": "python",
   "name": "python3"
  },
  "language_info": {
   "codemirror_mode": {
    "name": "ipython",
    "version": 3
   },
   "file_extension": ".py",
   "mimetype": "text/x-python",
   "name": "python",
   "nbconvert_exporter": "python",
   "pygments_lexer": "ipython3",
   "version": "3.11.7"
  }
 },
 "nbformat": 4,
 "nbformat_minor": 5
}
